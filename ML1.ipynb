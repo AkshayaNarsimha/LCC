{
  "nbformat": 4,
  "nbformat_minor": 0,
  "metadata": {
    "colab": {
      "provenance": []
    },
    "kernelspec": {
      "name": "python3",
      "display_name": "Python 3"
    },
    "language_info": {
      "name": "python"
    }
  },
  "cells": [
    {
      "cell_type": "markdown",
      "source": [
        "Procedure:\n",
        "* Identify a suitable preprocessing method for data transformation (continuous to discrete).\n",
        "* Compute\n",
        "  * 1) the size of possible instances,\n",
        "  * 2) the size of hypothesis space (the number of possible extensions), and\n",
        "  * 3) the size of hypothesis space, taking into account only the number of possible conjunctive concepts according to the descriptions in Section 4.1 of the main literature.\n",
        "* Implement the algorithm and verify that it works as expected.\n",
        "* Compute the accuracy of the model and report the generated model, i.e., the conjunctive rule.\n"
      ],
      "metadata": {
        "id": "VROR-IVnidwD"
      }
    },
    {
      "cell_type": "markdown",
      "source": [
        "---\n",
        "Import libraries:"
      ],
      "metadata": {
        "id": "uWoCTcPpzG6J"
      }
    },
    {
      "cell_type": "code",
      "source": [
        "import numpy as np\n",
        "import matplotlib.pyplot as plt\n",
        "import pandas as pd\n",
        "import array\n",
        "import collections\n",
        "from sklearn.preprocessing import KBinsDiscretizer\n",
        "import sys\n",
        "from sklearn.model_selection import train_test_split\n",
        "from tensorflow import keras"
      ],
      "metadata": {
        "id": "9Rt90Y0wwk2q"
      },
      "execution_count": 603,
      "outputs": []
    },
    {
      "cell_type": "markdown",
      "source": [
        "Import the dataset and setting relevant column names:"
      ],
      "metadata": {
        "id": "6SLfxN9uiu2Y"
      }
    },
    {
      "cell_type": "markdown",
      "source": [],
      "metadata": {
        "id": "FZZkOBACgncV"
      }
    },
    {
      "cell_type": "code",
      "source": [
        "Dataset = pd.read_csv(\"/content/spambase.csv\")\n",
        "# Read the \".data\" file as if it was \".csv\" but keep the .data file ending\n",
        "# Make sure the database can be read before executing.\n",
        "# Google Colab removes the spambase files regularly so you may need to upload them again.\n",
        "\n",
        "Dataset.columns = ['word_freq_make', 'word_freq_address', 'word_freq_all', 'word_freq_3d', 'word_freq_our', 'word_freq_over','word_freq_remove', 'word_freq_internet', 'word_freq_order', 'word_freq_mail', 'word_freq_receive', 'word_freq_will', 'word_freq_people', 'word_freq_report', 'word_freq_addresses', 'word_freq_free', 'word_freq_business', 'word_freq_email', 'word_freq_you', 'word_freq_credit', 'word_freq_your', 'word_freq_font', 'word_freq_000', 'word_freq_money', 'word_freq_hp', 'word_freq_hpl', 'word_freq_george', 'word_freq_650', 'word_freq_lab', 'word_freq_labs', 'word_freq_telnet', 'word_freq_857', 'word_freq_data', 'word_freq_415', 'word_freq_85', 'word_freq_technology', 'word_freq_1999', 'word_freq_parts', 'word_freq_pm', 'word_freq_direct', 'word_freq_cs', 'word_freq_meeting', 'word_freq_original', 'word_freq_project', 'word_freq_re', 'word_freq_edu', 'word_freq_table', 'word_freq_conference', 'word_freq_;', 'word_freq_(', 'word_freq_[', 'word_freq_!', 'word_freq_$', 'word_freq_#', 'capital_run_length_average', 'capital_run_length_longest', 'capital_run_length_total', 'is_spam']\n"
      ],
      "metadata": {
        "id": "S8hDiasvjDvn"
      },
      "execution_count": 604,
      "outputs": []
    },
    {
      "cell_type": "code",
      "source": [
        "Dataset"
      ],
      "metadata": {
        "colab": {
          "base_uri": "https://localhost:8080/",
          "height": 487
        },
        "id": "VE95HHNVgt0m",
        "outputId": "ca701edf-8d15-4cde-a341-9acf808c1f0f"
      },
      "execution_count": 605,
      "outputs": [
        {
          "output_type": "execute_result",
          "data": {
            "text/plain": [
              "      word_freq_make  word_freq_address  word_freq_all  word_freq_3d  \\\n",
              "0               0.21               0.28           0.50           0.0   \n",
              "1               0.06               0.00           0.71           0.0   \n",
              "2               0.00               0.00           0.00           0.0   \n",
              "3               0.00               0.00           0.00           0.0   \n",
              "4               0.00               0.00           0.00           0.0   \n",
              "...              ...                ...            ...           ...   \n",
              "4595            0.31               0.00           0.62           0.0   \n",
              "4596            0.00               0.00           0.00           0.0   \n",
              "4597            0.30               0.00           0.30           0.0   \n",
              "4598            0.96               0.00           0.00           0.0   \n",
              "4599            0.00               0.00           0.65           0.0   \n",
              "\n",
              "      word_freq_our  word_freq_over  word_freq_remove  word_freq_internet  \\\n",
              "0              0.14            0.28              0.21                0.07   \n",
              "1              1.23            0.19              0.19                0.12   \n",
              "2              0.63            0.00              0.31                0.63   \n",
              "3              0.63            0.00              0.31                0.63   \n",
              "4              1.85            0.00              0.00                1.85   \n",
              "...             ...             ...               ...                 ...   \n",
              "4595           0.00            0.31              0.00                0.00   \n",
              "4596           0.00            0.00              0.00                0.00   \n",
              "4597           0.00            0.00              0.00                0.00   \n",
              "4598           0.32            0.00              0.00                0.00   \n",
              "4599           0.00            0.00              0.00                0.00   \n",
              "\n",
              "      word_freq_order  word_freq_mail  ...  word_freq_;  word_freq_(  \\\n",
              "0                0.00            0.94  ...        0.000        0.132   \n",
              "1                0.64            0.25  ...        0.010        0.143   \n",
              "2                0.31            0.63  ...        0.000        0.137   \n",
              "3                0.31            0.63  ...        0.000        0.135   \n",
              "4                0.00            0.00  ...        0.000        0.223   \n",
              "...               ...             ...  ...          ...          ...   \n",
              "4595             0.00            0.00  ...        0.000        0.232   \n",
              "4596             0.00            0.00  ...        0.000        0.000   \n",
              "4597             0.00            0.00  ...        0.102        0.718   \n",
              "4598             0.00            0.00  ...        0.000        0.057   \n",
              "4599             0.00            0.00  ...        0.000        0.000   \n",
              "\n",
              "      word_freq_[  word_freq_!  word_freq_$  word_freq_#  \\\n",
              "0             0.0        0.372        0.180        0.048   \n",
              "1             0.0        0.276        0.184        0.010   \n",
              "2             0.0        0.137        0.000        0.000   \n",
              "3             0.0        0.135        0.000        0.000   \n",
              "4             0.0        0.000        0.000        0.000   \n",
              "...           ...          ...          ...          ...   \n",
              "4595          0.0        0.000        0.000        0.000   \n",
              "4596          0.0        0.353        0.000        0.000   \n",
              "4597          0.0        0.000        0.000        0.000   \n",
              "4598          0.0        0.000        0.000        0.000   \n",
              "4599          0.0        0.125        0.000        0.000   \n",
              "\n",
              "      capital_run_length_average  capital_run_length_longest  \\\n",
              "0                          5.114                         101   \n",
              "1                          9.821                         485   \n",
              "2                          3.537                          40   \n",
              "3                          3.537                          40   \n",
              "4                          3.000                          15   \n",
              "...                          ...                         ...   \n",
              "4595                       1.142                           3   \n",
              "4596                       1.555                           4   \n",
              "4597                       1.404                           6   \n",
              "4598                       1.147                           5   \n",
              "4599                       1.250                           5   \n",
              "\n",
              "      capital_run_length_total  is_spam  \n",
              "0                         1028        1  \n",
              "1                         2259        1  \n",
              "2                          191        1  \n",
              "3                          191        1  \n",
              "4                           54        1  \n",
              "...                        ...      ...  \n",
              "4595                        88        0  \n",
              "4596                        14        0  \n",
              "4597                       118        0  \n",
              "4598                        78        0  \n",
              "4599                        40        0  \n",
              "\n",
              "[4600 rows x 58 columns]"
            ],
            "text/html": [
              "\n",
              "  <div id=\"df-811327c1-2efb-44e4-9bdf-6d7416be12be\">\n",
              "    <div class=\"colab-df-container\">\n",
              "      <div>\n",
              "<style scoped>\n",
              "    .dataframe tbody tr th:only-of-type {\n",
              "        vertical-align: middle;\n",
              "    }\n",
              "\n",
              "    .dataframe tbody tr th {\n",
              "        vertical-align: top;\n",
              "    }\n",
              "\n",
              "    .dataframe thead th {\n",
              "        text-align: right;\n",
              "    }\n",
              "</style>\n",
              "<table border=\"1\" class=\"dataframe\">\n",
              "  <thead>\n",
              "    <tr style=\"text-align: right;\">\n",
              "      <th></th>\n",
              "      <th>word_freq_make</th>\n",
              "      <th>word_freq_address</th>\n",
              "      <th>word_freq_all</th>\n",
              "      <th>word_freq_3d</th>\n",
              "      <th>word_freq_our</th>\n",
              "      <th>word_freq_over</th>\n",
              "      <th>word_freq_remove</th>\n",
              "      <th>word_freq_internet</th>\n",
              "      <th>word_freq_order</th>\n",
              "      <th>word_freq_mail</th>\n",
              "      <th>...</th>\n",
              "      <th>word_freq_;</th>\n",
              "      <th>word_freq_(</th>\n",
              "      <th>word_freq_[</th>\n",
              "      <th>word_freq_!</th>\n",
              "      <th>word_freq_$</th>\n",
              "      <th>word_freq_#</th>\n",
              "      <th>capital_run_length_average</th>\n",
              "      <th>capital_run_length_longest</th>\n",
              "      <th>capital_run_length_total</th>\n",
              "      <th>is_spam</th>\n",
              "    </tr>\n",
              "  </thead>\n",
              "  <tbody>\n",
              "    <tr>\n",
              "      <th>0</th>\n",
              "      <td>0.21</td>\n",
              "      <td>0.28</td>\n",
              "      <td>0.50</td>\n",
              "      <td>0.0</td>\n",
              "      <td>0.14</td>\n",
              "      <td>0.28</td>\n",
              "      <td>0.21</td>\n",
              "      <td>0.07</td>\n",
              "      <td>0.00</td>\n",
              "      <td>0.94</td>\n",
              "      <td>...</td>\n",
              "      <td>0.000</td>\n",
              "      <td>0.132</td>\n",
              "      <td>0.0</td>\n",
              "      <td>0.372</td>\n",
              "      <td>0.180</td>\n",
              "      <td>0.048</td>\n",
              "      <td>5.114</td>\n",
              "      <td>101</td>\n",
              "      <td>1028</td>\n",
              "      <td>1</td>\n",
              "    </tr>\n",
              "    <tr>\n",
              "      <th>1</th>\n",
              "      <td>0.06</td>\n",
              "      <td>0.00</td>\n",
              "      <td>0.71</td>\n",
              "      <td>0.0</td>\n",
              "      <td>1.23</td>\n",
              "      <td>0.19</td>\n",
              "      <td>0.19</td>\n",
              "      <td>0.12</td>\n",
              "      <td>0.64</td>\n",
              "      <td>0.25</td>\n",
              "      <td>...</td>\n",
              "      <td>0.010</td>\n",
              "      <td>0.143</td>\n",
              "      <td>0.0</td>\n",
              "      <td>0.276</td>\n",
              "      <td>0.184</td>\n",
              "      <td>0.010</td>\n",
              "      <td>9.821</td>\n",
              "      <td>485</td>\n",
              "      <td>2259</td>\n",
              "      <td>1</td>\n",
              "    </tr>\n",
              "    <tr>\n",
              "      <th>2</th>\n",
              "      <td>0.00</td>\n",
              "      <td>0.00</td>\n",
              "      <td>0.00</td>\n",
              "      <td>0.0</td>\n",
              "      <td>0.63</td>\n",
              "      <td>0.00</td>\n",
              "      <td>0.31</td>\n",
              "      <td>0.63</td>\n",
              "      <td>0.31</td>\n",
              "      <td>0.63</td>\n",
              "      <td>...</td>\n",
              "      <td>0.000</td>\n",
              "      <td>0.137</td>\n",
              "      <td>0.0</td>\n",
              "      <td>0.137</td>\n",
              "      <td>0.000</td>\n",
              "      <td>0.000</td>\n",
              "      <td>3.537</td>\n",
              "      <td>40</td>\n",
              "      <td>191</td>\n",
              "      <td>1</td>\n",
              "    </tr>\n",
              "    <tr>\n",
              "      <th>3</th>\n",
              "      <td>0.00</td>\n",
              "      <td>0.00</td>\n",
              "      <td>0.00</td>\n",
              "      <td>0.0</td>\n",
              "      <td>0.63</td>\n",
              "      <td>0.00</td>\n",
              "      <td>0.31</td>\n",
              "      <td>0.63</td>\n",
              "      <td>0.31</td>\n",
              "      <td>0.63</td>\n",
              "      <td>...</td>\n",
              "      <td>0.000</td>\n",
              "      <td>0.135</td>\n",
              "      <td>0.0</td>\n",
              "      <td>0.135</td>\n",
              "      <td>0.000</td>\n",
              "      <td>0.000</td>\n",
              "      <td>3.537</td>\n",
              "      <td>40</td>\n",
              "      <td>191</td>\n",
              "      <td>1</td>\n",
              "    </tr>\n",
              "    <tr>\n",
              "      <th>4</th>\n",
              "      <td>0.00</td>\n",
              "      <td>0.00</td>\n",
              "      <td>0.00</td>\n",
              "      <td>0.0</td>\n",
              "      <td>1.85</td>\n",
              "      <td>0.00</td>\n",
              "      <td>0.00</td>\n",
              "      <td>1.85</td>\n",
              "      <td>0.00</td>\n",
              "      <td>0.00</td>\n",
              "      <td>...</td>\n",
              "      <td>0.000</td>\n",
              "      <td>0.223</td>\n",
              "      <td>0.0</td>\n",
              "      <td>0.000</td>\n",
              "      <td>0.000</td>\n",
              "      <td>0.000</td>\n",
              "      <td>3.000</td>\n",
              "      <td>15</td>\n",
              "      <td>54</td>\n",
              "      <td>1</td>\n",
              "    </tr>\n",
              "    <tr>\n",
              "      <th>...</th>\n",
              "      <td>...</td>\n",
              "      <td>...</td>\n",
              "      <td>...</td>\n",
              "      <td>...</td>\n",
              "      <td>...</td>\n",
              "      <td>...</td>\n",
              "      <td>...</td>\n",
              "      <td>...</td>\n",
              "      <td>...</td>\n",
              "      <td>...</td>\n",
              "      <td>...</td>\n",
              "      <td>...</td>\n",
              "      <td>...</td>\n",
              "      <td>...</td>\n",
              "      <td>...</td>\n",
              "      <td>...</td>\n",
              "      <td>...</td>\n",
              "      <td>...</td>\n",
              "      <td>...</td>\n",
              "      <td>...</td>\n",
              "      <td>...</td>\n",
              "    </tr>\n",
              "    <tr>\n",
              "      <th>4595</th>\n",
              "      <td>0.31</td>\n",
              "      <td>0.00</td>\n",
              "      <td>0.62</td>\n",
              "      <td>0.0</td>\n",
              "      <td>0.00</td>\n",
              "      <td>0.31</td>\n",
              "      <td>0.00</td>\n",
              "      <td>0.00</td>\n",
              "      <td>0.00</td>\n",
              "      <td>0.00</td>\n",
              "      <td>...</td>\n",
              "      <td>0.000</td>\n",
              "      <td>0.232</td>\n",
              "      <td>0.0</td>\n",
              "      <td>0.000</td>\n",
              "      <td>0.000</td>\n",
              "      <td>0.000</td>\n",
              "      <td>1.142</td>\n",
              "      <td>3</td>\n",
              "      <td>88</td>\n",
              "      <td>0</td>\n",
              "    </tr>\n",
              "    <tr>\n",
              "      <th>4596</th>\n",
              "      <td>0.00</td>\n",
              "      <td>0.00</td>\n",
              "      <td>0.00</td>\n",
              "      <td>0.0</td>\n",
              "      <td>0.00</td>\n",
              "      <td>0.00</td>\n",
              "      <td>0.00</td>\n",
              "      <td>0.00</td>\n",
              "      <td>0.00</td>\n",
              "      <td>0.00</td>\n",
              "      <td>...</td>\n",
              "      <td>0.000</td>\n",
              "      <td>0.000</td>\n",
              "      <td>0.0</td>\n",
              "      <td>0.353</td>\n",
              "      <td>0.000</td>\n",
              "      <td>0.000</td>\n",
              "      <td>1.555</td>\n",
              "      <td>4</td>\n",
              "      <td>14</td>\n",
              "      <td>0</td>\n",
              "    </tr>\n",
              "    <tr>\n",
              "      <th>4597</th>\n",
              "      <td>0.30</td>\n",
              "      <td>0.00</td>\n",
              "      <td>0.30</td>\n",
              "      <td>0.0</td>\n",
              "      <td>0.00</td>\n",
              "      <td>0.00</td>\n",
              "      <td>0.00</td>\n",
              "      <td>0.00</td>\n",
              "      <td>0.00</td>\n",
              "      <td>0.00</td>\n",
              "      <td>...</td>\n",
              "      <td>0.102</td>\n",
              "      <td>0.718</td>\n",
              "      <td>0.0</td>\n",
              "      <td>0.000</td>\n",
              "      <td>0.000</td>\n",
              "      <td>0.000</td>\n",
              "      <td>1.404</td>\n",
              "      <td>6</td>\n",
              "      <td>118</td>\n",
              "      <td>0</td>\n",
              "    </tr>\n",
              "    <tr>\n",
              "      <th>4598</th>\n",
              "      <td>0.96</td>\n",
              "      <td>0.00</td>\n",
              "      <td>0.00</td>\n",
              "      <td>0.0</td>\n",
              "      <td>0.32</td>\n",
              "      <td>0.00</td>\n",
              "      <td>0.00</td>\n",
              "      <td>0.00</td>\n",
              "      <td>0.00</td>\n",
              "      <td>0.00</td>\n",
              "      <td>...</td>\n",
              "      <td>0.000</td>\n",
              "      <td>0.057</td>\n",
              "      <td>0.0</td>\n",
              "      <td>0.000</td>\n",
              "      <td>0.000</td>\n",
              "      <td>0.000</td>\n",
              "      <td>1.147</td>\n",
              "      <td>5</td>\n",
              "      <td>78</td>\n",
              "      <td>0</td>\n",
              "    </tr>\n",
              "    <tr>\n",
              "      <th>4599</th>\n",
              "      <td>0.00</td>\n",
              "      <td>0.00</td>\n",
              "      <td>0.65</td>\n",
              "      <td>0.0</td>\n",
              "      <td>0.00</td>\n",
              "      <td>0.00</td>\n",
              "      <td>0.00</td>\n",
              "      <td>0.00</td>\n",
              "      <td>0.00</td>\n",
              "      <td>0.00</td>\n",
              "      <td>...</td>\n",
              "      <td>0.000</td>\n",
              "      <td>0.000</td>\n",
              "      <td>0.0</td>\n",
              "      <td>0.125</td>\n",
              "      <td>0.000</td>\n",
              "      <td>0.000</td>\n",
              "      <td>1.250</td>\n",
              "      <td>5</td>\n",
              "      <td>40</td>\n",
              "      <td>0</td>\n",
              "    </tr>\n",
              "  </tbody>\n",
              "</table>\n",
              "<p>4600 rows × 58 columns</p>\n",
              "</div>\n",
              "      <button class=\"colab-df-convert\" onclick=\"convertToInteractive('df-811327c1-2efb-44e4-9bdf-6d7416be12be')\"\n",
              "              title=\"Convert this dataframe to an interactive table.\"\n",
              "              style=\"display:none;\">\n",
              "        \n",
              "  <svg xmlns=\"http://www.w3.org/2000/svg\" height=\"24px\"viewBox=\"0 0 24 24\"\n",
              "       width=\"24px\">\n",
              "    <path d=\"M0 0h24v24H0V0z\" fill=\"none\"/>\n",
              "    <path d=\"M18.56 5.44l.94 2.06.94-2.06 2.06-.94-2.06-.94-.94-2.06-.94 2.06-2.06.94zm-11 1L8.5 8.5l.94-2.06 2.06-.94-2.06-.94L8.5 2.5l-.94 2.06-2.06.94zm10 10l.94 2.06.94-2.06 2.06-.94-2.06-.94-.94-2.06-.94 2.06-2.06.94z\"/><path d=\"M17.41 7.96l-1.37-1.37c-.4-.4-.92-.59-1.43-.59-.52 0-1.04.2-1.43.59L10.3 9.45l-7.72 7.72c-.78.78-.78 2.05 0 2.83L4 21.41c.39.39.9.59 1.41.59.51 0 1.02-.2 1.41-.59l7.78-7.78 2.81-2.81c.8-.78.8-2.07 0-2.86zM5.41 20L4 18.59l7.72-7.72 1.47 1.35L5.41 20z\"/>\n",
              "  </svg>\n",
              "      </button>\n",
              "      \n",
              "  <style>\n",
              "    .colab-df-container {\n",
              "      display:flex;\n",
              "      flex-wrap:wrap;\n",
              "      gap: 12px;\n",
              "    }\n",
              "\n",
              "    .colab-df-convert {\n",
              "      background-color: #E8F0FE;\n",
              "      border: none;\n",
              "      border-radius: 50%;\n",
              "      cursor: pointer;\n",
              "      display: none;\n",
              "      fill: #1967D2;\n",
              "      height: 32px;\n",
              "      padding: 0 0 0 0;\n",
              "      width: 32px;\n",
              "    }\n",
              "\n",
              "    .colab-df-convert:hover {\n",
              "      background-color: #E2EBFA;\n",
              "      box-shadow: 0px 1px 2px rgba(60, 64, 67, 0.3), 0px 1px 3px 1px rgba(60, 64, 67, 0.15);\n",
              "      fill: #174EA6;\n",
              "    }\n",
              "\n",
              "    [theme=dark] .colab-df-convert {\n",
              "      background-color: #3B4455;\n",
              "      fill: #D2E3FC;\n",
              "    }\n",
              "\n",
              "    [theme=dark] .colab-df-convert:hover {\n",
              "      background-color: #434B5C;\n",
              "      box-shadow: 0px 1px 3px 1px rgba(0, 0, 0, 0.15);\n",
              "      filter: drop-shadow(0px 1px 2px rgba(0, 0, 0, 0.3));\n",
              "      fill: #FFFFFF;\n",
              "    }\n",
              "  </style>\n",
              "\n",
              "      <script>\n",
              "        const buttonEl =\n",
              "          document.querySelector('#df-811327c1-2efb-44e4-9bdf-6d7416be12be button.colab-df-convert');\n",
              "        buttonEl.style.display =\n",
              "          google.colab.kernel.accessAllowed ? 'block' : 'none';\n",
              "\n",
              "        async function convertToInteractive(key) {\n",
              "          const element = document.querySelector('#df-811327c1-2efb-44e4-9bdf-6d7416be12be');\n",
              "          const dataTable =\n",
              "            await google.colab.kernel.invokeFunction('convertToInteractive',\n",
              "                                                     [key], {});\n",
              "          if (!dataTable) return;\n",
              "\n",
              "          const docLinkHtml = 'Like what you see? Visit the ' +\n",
              "            '<a target=\"_blank\" href=https://colab.research.google.com/notebooks/data_table.ipynb>data table notebook</a>'\n",
              "            + ' to learn more about interactive tables.';\n",
              "          element.innerHTML = '';\n",
              "          dataTable['output_type'] = 'display_data';\n",
              "          await google.colab.output.renderOutput(dataTable, element);\n",
              "          const docLink = document.createElement('div');\n",
              "          docLink.innerHTML = docLinkHtml;\n",
              "          element.appendChild(docLink);\n",
              "        }\n",
              "      </script>\n",
              "    </div>\n",
              "  </div>\n",
              "  "
            ]
          },
          "metadata": {},
          "execution_count": 605
        }
      ]
    },
    {
      "cell_type": "code",
      "source": [
        "x = Dataset.iloc[:,: -3]\n",
        "y = Dataset.iloc[:,-1]\n",
        "pos_res = x.iloc[: 1812] \n",
        "neg_res = x.iloc[1813 :]"
      ],
      "metadata": {
        "id": "RRnppN8-lLCp"
      },
      "execution_count": 606,
      "outputs": []
    },
    {
      "cell_type": "markdown",
      "source": [
        "Preprocessing method: Discretization using \"sklearn.preprocessing.KBinsDiscretizer\""
      ],
      "metadata": {
        "id": "9kwvsvOAxqiF"
      }
    },
    {
      "cell_type": "code",
      "source": [
        "number_of_bins = 5\n",
        "Dataset_discrete = KBinsDiscretizer(n_bins=number_of_bins, encode=\"ordinal\", strategy=\"uniform\").fit_transform(pos_res)\n",
        "# Info: https://scikit-learn.org/stable/modules/generated/sklearn.preprocessing.KBinsDiscretizer.html"
      ],
      "metadata": {
        "id": "WbeaQndXnLOC"
      },
      "execution_count": 607,
      "outputs": []
    },
    {
      "cell_type": "code",
      "source": [
        "Dataset_discrete\n",
        "type(Dataset_discrete)"
      ],
      "metadata": {
        "id": "p1Q5nBHox4uD",
        "colab": {
          "base_uri": "https://localhost:8080/"
        },
        "outputId": "1030ff72-8499-4f96-877c-596bc52fd0c6"
      },
      "execution_count": 608,
      "outputs": [
        {
          "output_type": "execute_result",
          "data": {
            "text/plain": [
              "numpy.ndarray"
            ]
          },
          "metadata": {},
          "execution_count": 608
        }
      ]
    },
    {
      "cell_type": "code",
      "source": [
        "Dataset_discrete.shape\n",
        "Dataset_discrete.astype(np.int64)"
      ],
      "metadata": {
        "colab": {
          "base_uri": "https://localhost:8080/"
        },
        "id": "tPj9Q9UcoeFj",
        "outputId": "76dc65b7-0291-4b6f-aa05-139f8b4b0c6e"
      },
      "execution_count": 609,
      "outputs": [
        {
          "output_type": "execute_result",
          "data": {
            "text/plain": [
              "array([[0, 0, 0, ..., 0, 0, 0],\n",
              "       [0, 0, 0, ..., 0, 0, 0],\n",
              "       [0, 0, 0, ..., 0, 0, 0],\n",
              "       ...,\n",
              "       [0, 0, 1, ..., 0, 0, 0],\n",
              "       [0, 0, 0, ..., 0, 0, 0],\n",
              "       [0, 0, 0, ..., 0, 0, 0]])"
            ]
          },
          "metadata": {},
          "execution_count": 609
        }
      ]
    },
    {
      "cell_type": "markdown",
      "source": [
        "The array \"Dataset_discrete\" can now be used.\n",
        "\n",
        "Lowest to highest value found in each column: 0 - number_of_bins-1."
      ],
      "metadata": {
        "id": "MvjpN-URjekT"
      }
    },
    {
      "cell_type": "code",
      "source": [
        "# Filter out all instances of not spam\n",
        "# D = np.empty(shape=(0,55))\n",
        "# for x in Dataset_discrete:\n",
        "#   if x[-1] == number_of_bins-1:\n",
        "#     D = np.append(D, np.array([x]), axis=0)\n",
        "#     print(D)\n",
        "\n",
        "# D will only contains positive results of spam"
      ],
      "metadata": {
        "id": "gM8XJ_0wfk9K"
      },
      "execution_count": 610,
      "outputs": []
    },
    {
      "cell_type": "code",
      "source": [
        "#number of instances\n",
        "unique, counts = np.unique(Dataset_discrete, return_counts=True)\n",
        "instances = dict(zip(unique, counts))\n",
        "print(instances)\n",
        "#unique instances\n",
        "instance = 1\n",
        "data = np.ndarray.tolist(Dataset_discrete)\n",
        "for i in range(0, 58):\n",
        "  list = []\n",
        "  instance *= len(set(data[i]))\n",
        "print(instance)"
      ],
      "metadata": {
        "colab": {
          "base_uri": "https://localhost:8080/"
        },
        "id": "Ijgl2qXTOn2M",
        "outputId": "cfd0e029-fa22-4bce-d6ed-1da9f3fc4f12"
      },
      "execution_count": 611,
      "outputs": [
        {
          "output_type": "stream",
          "name": "stdout",
          "text": [
            "{0.0: 95815, 1.0: 3063, 2.0: 550, 3.0: 128, 4.0: 104}\n",
            "14427791579676672\n"
          ]
        }
      ]
    },
    {
      "cell_type": "code",
      "source": [
        "#Hypothesis space\n",
        "# sys.set_int_max_str_digits(14495514624)\n",
        "# space_size = 5**14495514624\n",
        "# space_size"
      ],
      "metadata": {
        "id": "JM_u6CWxMwsC"
      },
      "execution_count": 612,
      "outputs": []
    },
    {
      "cell_type": "code",
      "source": [
        "#4.2\n",
        "def LGG_conj(x, y):\n",
        "  z = [i for i in x if i in y]\n",
        "  return z\n",
        "  "
      ],
      "metadata": {
        "id": "7nxtomwmvftp"
      },
      "execution_count": 613,
      "outputs": []
    },
    {
      "cell_type": "code",
      "source": [
        "#First instance (\"D\" contains only spam)\n",
        "#4.1\n",
        "\n",
        "def LGG(Dataset_discrete):\n",
        "  H = []\n",
        "  x = Dataset_discrete[0]\n",
        "  H = np.append(x, H)\n",
        "  for i in range(len(Dataset_discrete)):\n",
        "    x = Dataset_discrete[i]\n",
        "    H = LGG_conj(H, x)\n",
        "    return H\n"
      ],
      "metadata": {
        "id": "iaYsjLiNx4b7"
      },
      "execution_count": 614,
      "outputs": []
    },
    {
      "cell_type": "code",
      "source": [
        "# Select ratio\n",
        "ratio = 0.8\n",
        "\n",
        "total_rows = Dataset_discrete.shape[0]\n",
        "train_size = int(total_rows*ratio)\n",
        "\n",
        "# Split data into test and train\n",
        "train = Dataset_discrete[0:train_size]\n",
        "test = Dataset_discrete[train_size:]\n",
        "print(LGG(train))\n",
        "print(LGG(test))"
      ],
      "metadata": {
        "id": "m0Yf-33-GYuA",
        "colab": {
          "base_uri": "https://localhost:8080/"
        },
        "outputId": "6555cc96-3059-4da9-8367-fd1a5da819c4"
      },
      "execution_count": 615,
      "outputs": [
        {
          "output_type": "stream",
          "name": "stdout",
          "text": [
            "[0.0, 0.0, 0.0, 0.0, 0.0, 0.0, 0.0, 0.0, 0.0, 0.0, 0.0, 0.0, 0.0, 0.0, 0.0, 0.0, 0.0, 0.0, 1.0, 0.0, 0.0, 0.0, 0.0, 0.0, 0.0, 0.0, 0.0, 0.0, 0.0, 0.0, 0.0, 0.0, 0.0, 0.0, 0.0, 0.0, 0.0, 0.0, 0.0, 0.0, 0.0, 0.0, 0.0, 0.0, 0.0, 0.0, 0.0, 0.0, 0.0, 0.0, 0.0, 0.0, 0.0, 0.0, 0.0]\n",
            "[0.0, 0.0, 0.0, 0.0, 0.0, 0.0, 0.0, 0.0, 1.0, 0.0, 0.0, 0.0, 0.0, 0.0, 0.0, 0.0, 0.0, 0.0, 1.0, 0.0, 0.0, 0.0, 0.0, 0.0, 0.0, 0.0, 0.0, 0.0, 0.0, 0.0, 0.0, 0.0, 0.0, 0.0, 0.0, 0.0, 0.0, 0.0, 0.0, 0.0, 0.0, 0.0, 0.0, 0.0, 0.0, 0.0, 0.0, 0.0, 0.0, 0.0, 0.0, 0.0, 0.0, 0.0, 0.0]\n"
          ]
        }
      ]
    },
    {
      "cell_type": "code",
      "source": [
        "y_true = LGG(train)\n",
        "y_pred = LGG(test)\n",
        "def compute_accuracy(y_true, y_pred):\n",
        "    correct_predictions = 0\n",
        "    # iterate over each label and check if it is True\n",
        "    for true, predicted in zip(y_true, y_pred):\n",
        "        if true == predicted:\n",
        "            correct_predictions += 1\n",
        "    # compute the accuracy using the true values\n",
        "    accuracy = (correct_predictions/len(y_true))\n",
        "    return accuracy\n",
        "compute_accuracy(y_true, y_pred)"
      ],
      "metadata": {
        "colab": {
          "base_uri": "https://localhost:8080/"
        },
        "id": "_hocn2s6TrOi",
        "outputId": "53de2e3f-3bc8-4c59-ccb4-045feb642691"
      },
      "execution_count": 616,
      "outputs": [
        {
          "output_type": "execute_result",
          "data": {
            "text/plain": [
              "0.9818181818181818"
            ]
          },
          "metadata": {},
          "execution_count": 616
        }
      ]
    }
  ]
}